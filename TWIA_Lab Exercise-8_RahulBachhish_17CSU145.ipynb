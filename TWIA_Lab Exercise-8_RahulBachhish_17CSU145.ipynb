{
 "cells": [
  {
   "cell_type": "markdown",
   "metadata": {},
   "source": [
    "# TWIA Lab Exercise 8"
   ]
  },
  {
   "cell_type": "markdown",
   "metadata": {},
   "source": [
    "## Submitted by : Rahul Bachhish (17CSU145)"
   ]
  },
  {
   "cell_type": "markdown",
   "metadata": {},
   "source": [
    "Case Study:\n",
    "In this case study, you will investigate homophily of several characteristics of individuals connected in social networks in rural India.\n",
    "\n",
    "You will calculate the chance homophily for an arbitrary characteristic. Homophily is the proportion of edges in the network whose constituent nodes share that characteristic. How much homophily do we expect by chance? If characteristics are distributed completely randomly, the probability that two nodes x and y share characteristic a is the probability both nodes have characteristic a, which is the frequency of a squared. The total probability that nodes x and y share their characteristic is therefore the sum of the frequency of each characteristic in the network"
   ]
  },
  {
   "cell_type": "code",
   "execution_count": 1,
   "metadata": {},
   "outputs": [],
   "source": [
    "import pandas as pd\n",
    "import numpy as np\n",
    "from collections import Counter\n",
    "import networkx as nx"
   ]
  },
  {
   "cell_type": "code",
   "execution_count": 2,
   "metadata": {},
   "outputs": [
    {
     "data": {
      "text/html": [
       "<div>\n",
       "<style scoped>\n",
       "    .dataframe tbody tr th:only-of-type {\n",
       "        vertical-align: middle;\n",
       "    }\n",
       "\n",
       "    .dataframe tbody tr th {\n",
       "        vertical-align: top;\n",
       "    }\n",
       "\n",
       "    .dataframe thead th {\n",
       "        text-align: right;\n",
       "    }\n",
       "</style>\n",
       "<table border=\"1\" class=\"dataframe\">\n",
       "  <thead>\n",
       "    <tr style=\"text-align: right;\">\n",
       "      <th></th>\n",
       "      <th>village</th>\n",
       "      <th>adjmatrix_key</th>\n",
       "      <th>pid</th>\n",
       "      <th>hhid</th>\n",
       "      <th>resp_id</th>\n",
       "      <th>resp_gend</th>\n",
       "      <th>resp_status</th>\n",
       "      <th>age</th>\n",
       "      <th>religion</th>\n",
       "      <th>caste</th>\n",
       "      <th>...</th>\n",
       "      <th>privategovt</th>\n",
       "      <th>work_outside</th>\n",
       "      <th>work_outside_freq</th>\n",
       "      <th>shgparticipate</th>\n",
       "      <th>shg_no</th>\n",
       "      <th>savings</th>\n",
       "      <th>savings_no</th>\n",
       "      <th>electioncard</th>\n",
       "      <th>rationcard</th>\n",
       "      <th>rationcard_colour</th>\n",
       "    </tr>\n",
       "  </thead>\n",
       "  <tbody>\n",
       "    <tr>\n",
       "      <th>0</th>\n",
       "      <td>1</td>\n",
       "      <td>5</td>\n",
       "      <td>100201</td>\n",
       "      <td>1002</td>\n",
       "      <td>1</td>\n",
       "      <td>1</td>\n",
       "      <td>Head of Household</td>\n",
       "      <td>38</td>\n",
       "      <td>HINDUISM</td>\n",
       "      <td>OBC</td>\n",
       "      <td>...</td>\n",
       "      <td>PRIVATE BUSINESS</td>\n",
       "      <td>Yes</td>\n",
       "      <td>0</td>\n",
       "      <td>No</td>\n",
       "      <td>NaN</td>\n",
       "      <td>No</td>\n",
       "      <td>NaN</td>\n",
       "      <td>Yes</td>\n",
       "      <td>Yes</td>\n",
       "      <td>GREEN</td>\n",
       "    </tr>\n",
       "    <tr>\n",
       "      <th>1</th>\n",
       "      <td>1</td>\n",
       "      <td>6</td>\n",
       "      <td>100202</td>\n",
       "      <td>1002</td>\n",
       "      <td>2</td>\n",
       "      <td>2</td>\n",
       "      <td>Spouse of Head of Household</td>\n",
       "      <td>27</td>\n",
       "      <td>HINDUISM</td>\n",
       "      <td>OBC</td>\n",
       "      <td>...</td>\n",
       "      <td></td>\n",
       "      <td>NaN</td>\n",
       "      <td>NaN</td>\n",
       "      <td>No</td>\n",
       "      <td>NaN</td>\n",
       "      <td>No</td>\n",
       "      <td>NaN</td>\n",
       "      <td>Yes</td>\n",
       "      <td>Yes</td>\n",
       "      <td>GREEN</td>\n",
       "    </tr>\n",
       "    <tr>\n",
       "      <th>2</th>\n",
       "      <td>1</td>\n",
       "      <td>23</td>\n",
       "      <td>100601</td>\n",
       "      <td>1006</td>\n",
       "      <td>1</td>\n",
       "      <td>1</td>\n",
       "      <td>Head of Household</td>\n",
       "      <td>29</td>\n",
       "      <td>HINDUISM</td>\n",
       "      <td>OBC</td>\n",
       "      <td>...</td>\n",
       "      <td>OTHER LAND</td>\n",
       "      <td>No</td>\n",
       "      <td>NaN</td>\n",
       "      <td>No</td>\n",
       "      <td>NaN</td>\n",
       "      <td>No</td>\n",
       "      <td>NaN</td>\n",
       "      <td>Yes</td>\n",
       "      <td>Yes</td>\n",
       "      <td>GREEN</td>\n",
       "    </tr>\n",
       "    <tr>\n",
       "      <th>3</th>\n",
       "      <td>1</td>\n",
       "      <td>24</td>\n",
       "      <td>100602</td>\n",
       "      <td>1006</td>\n",
       "      <td>2</td>\n",
       "      <td>2</td>\n",
       "      <td>Spouse of Head of Household</td>\n",
       "      <td>24</td>\n",
       "      <td>HINDUISM</td>\n",
       "      <td>OBC</td>\n",
       "      <td>...</td>\n",
       "      <td>PRIVATE BUSINESS</td>\n",
       "      <td>No</td>\n",
       "      <td>NaN</td>\n",
       "      <td>Yes</td>\n",
       "      <td>1</td>\n",
       "      <td>Yes</td>\n",
       "      <td>1.0</td>\n",
       "      <td>Yes</td>\n",
       "      <td>No</td>\n",
       "      <td></td>\n",
       "    </tr>\n",
       "    <tr>\n",
       "      <th>4</th>\n",
       "      <td>1</td>\n",
       "      <td>27</td>\n",
       "      <td>100701</td>\n",
       "      <td>1007</td>\n",
       "      <td>1</td>\n",
       "      <td>1</td>\n",
       "      <td>Head of Household</td>\n",
       "      <td>58</td>\n",
       "      <td>HINDUISM</td>\n",
       "      <td>OBC</td>\n",
       "      <td>...</td>\n",
       "      <td>OTHER LAND</td>\n",
       "      <td>No</td>\n",
       "      <td>NaN</td>\n",
       "      <td>No</td>\n",
       "      <td>NaN</td>\n",
       "      <td>No</td>\n",
       "      <td>NaN</td>\n",
       "      <td>Yes</td>\n",
       "      <td>Yes</td>\n",
       "      <td>GREEN</td>\n",
       "    </tr>\n",
       "  </tbody>\n",
       "</table>\n",
       "<p>5 rows × 48 columns</p>\n",
       "</div>"
      ],
      "text/plain": [
       "   village  adjmatrix_key     pid  hhid  resp_id  resp_gend  \\\n",
       "0        1              5  100201  1002        1          1   \n",
       "1        1              6  100202  1002        2          2   \n",
       "2        1             23  100601  1006        1          1   \n",
       "3        1             24  100602  1006        2          2   \n",
       "4        1             27  100701  1007        1          1   \n",
       "\n",
       "                   resp_status  age  religion caste        ...         \\\n",
       "0            Head of Household   38  HINDUISM   OBC        ...          \n",
       "1  Spouse of Head of Household   27  HINDUISM   OBC        ...          \n",
       "2            Head of Household   29  HINDUISM   OBC        ...          \n",
       "3  Spouse of Head of Household   24  HINDUISM   OBC        ...          \n",
       "4            Head of Household   58  HINDUISM   OBC        ...          \n",
       "\n",
       "        privategovt work_outside work_outside_freq shgparticipate shg_no  \\\n",
       "0  PRIVATE BUSINESS          Yes                 0             No    NaN   \n",
       "1                            NaN               NaN             No    NaN   \n",
       "2        OTHER LAND           No               NaN             No    NaN   \n",
       "3  PRIVATE BUSINESS           No               NaN            Yes      1   \n",
       "4        OTHER LAND           No               NaN             No    NaN   \n",
       "\n",
       "  savings savings_no electioncard rationcard rationcard_colour  \n",
       "0      No        NaN          Yes        Yes             GREEN  \n",
       "1      No        NaN          Yes        Yes             GREEN  \n",
       "2      No        NaN          Yes        Yes             GREEN  \n",
       "3     Yes        1.0          Yes         No                    \n",
       "4      No        NaN          Yes        Yes             GREEN  \n",
       "\n",
       "[5 rows x 48 columns]"
      ]
     },
     "execution_count": 2,
     "metadata": {},
     "output_type": "execute_result"
    }
   ],
   "source": [
    "df  = pd.read_stata(\"individual_characteristics.dta\")\n",
    "df1 = df.loc[df.village == 1]\n",
    "df2 = df.loc[df.village == 2]\n",
    "df1.head()"
   ]
  },
  {
   "cell_type": "code",
   "execution_count": 3,
   "metadata": {},
   "outputs": [],
   "source": [
    "pid1 = pd.read_csv(\"village1_pid.csv\",dtype=int, header = None)\n",
    "pid2 = pd.read_csv(\"village2_pid.csv\",dtype=int, header = None)"
   ]
  },
  {
   "cell_type": "code",
   "execution_count": 4,
   "metadata": {},
   "outputs": [],
   "source": [
    "sex1      = df1.set_index(\"pid\")[\"resp_gend\"].to_dict()\n",
    "caste1    = df1.set_index(\"pid\")[\"caste\"].to_dict()\n",
    "religion1 = df1.set_index(\"pid\")[\"religion\"].to_dict()\n",
    "\n",
    "sex2      = df2.set_index(\"pid\")[\"resp_gend\"].to_dict()\n",
    "caste2    = df2.set_index(\"pid\")[\"caste\"].to_dict()\n",
    "religion2 = df2.set_index(\"pid\")[\"religion\"].to_dict()"
   ]
  },
  {
   "cell_type": "code",
   "execution_count": 5,
   "metadata": {},
   "outputs": [
    {
     "name": "stdout",
     "output_type": "stream",
     "text": [
      "0.5555555555555556\n"
     ]
    }
   ],
   "source": [
    "def chance_homophily(chars):\n",
    "    chars_counts = np.array(list(Counter(chars.values()).values()))\n",
    "    chars_frequency = chars_counts / sum(chars_counts)\n",
    "    return sum(chars_frequency**2)\n",
    "\n",
    "favorite_colors = {\n",
    "    \"ankit\":  \"red\",\n",
    "    \"xiaoyu\": \"blue\",\n",
    "    \"mary\":   \"blue\"\n",
    "}\n",
    "\n",
    "color_homophily = chance_homophily(favorite_colors)\n",
    "print(color_homophily)\n",
    "\n",
    "k = dict(Counter(favorite_colors))"
   ]
  },
  {
   "cell_type": "code",
   "execution_count": 6,
   "metadata": {},
   "outputs": [
    {
     "name": "stdout",
     "output_type": "stream",
     "text": [
      "Village 1 chance of same sex: 0.5027299861680701\n",
      "Village 2 chance of same sex: 0.5005945303210464\n",
      "Village 1 chance of same caste: 0.6741488509791551\n",
      "Village 2 chance of same caste: 0.425368244800893\n",
      "Village 1 chance of same religion: 0.9804896988521925\n",
      "Village 2 chance of same religion: 1.0\n"
     ]
    }
   ],
   "source": [
    "print(\"Village 1 chance of same sex:\", chance_homophily(sex1))\n",
    "print(\"Village 2 chance of same sex:\", chance_homophily(sex2))\n",
    "print(\"Village 1 chance of same caste:\", chance_homophily(caste1))\n",
    "print(\"Village 2 chance of same caste:\", chance_homophily(caste2))\n",
    "print(\"Village 1 chance of same religion:\", chance_homophily(religion1))\n",
    "print(\"Village 2 chance of same religion:\", chance_homophily(religion2))"
   ]
  },
  {
   "cell_type": "code",
   "execution_count": 7,
   "metadata": {},
   "outputs": [],
   "source": [
    "G=nx.Graph()\n",
    "A1=np.loadtxt(\"village1_relationships.csv\", delimiter=\",\")\n",
    "A2=np.loadtxt(\"village2_relationships.csv\", delimiter=\",\")\n",
    "\n",
    "G1=nx.to_networkx_graph(A1)\n",
    "G2=nx.to_networkx_graph(A2)"
   ]
  },
  {
   "cell_type": "code",
   "execution_count": 8,
   "metadata": {},
   "outputs": [],
   "source": [
    "def homophily(G, chars, IDs):\n",
    "   \n",
    "    num_same_ties, num_ties = 0, 0\n",
    "    for n1 in G.nodes():\n",
    "        for n2 in G.nodes():\n",
    "            if n1 > n2:  \n",
    "                if IDs[0][n1] in chars and IDs[0][n2] in chars:\n",
    "                    if G.has_edge(n1, n2):\n",
    "                        num_ties += 1\n",
    "                        if chars[IDs[0][n1]] == chars[IDs[0][n2]]:\n",
    "                            num_same_ties += 1\n",
    "    return (num_same_ties / num_ties)"
   ]
  },
  {
   "cell_type": "code",
   "execution_count": 9,
   "metadata": {},
   "outputs": [
    {
     "name": "stdout",
     "output_type": "stream",
     "text": [
      "Village 1 observed proportion of same sex: 0.5879345603271984\n",
      "Village 2 observed proportion of same sex: 0.5622435020519836\n",
      "Village 1 observed proportion of same caste: 0.7944785276073619\n",
      "Village 2 observed proportion of same caste: 0.826265389876881\n",
      "Village 1 observed proportion of same religion : 0.99079754601227\n",
      "Village 2 observed proportion of same religion : 1.0\n"
     ]
    }
   ],
   "source": [
    "print(\"Village 1 observed proportion of same sex:\", homophily(G1, sex1, pid1))\n",
    "print(\"Village 2 observed proportion of same sex:\", homophily(G2, sex2, pid2))\n",
    "print(\"Village 1 observed proportion of same caste:\", homophily(G1, caste1, pid1))\n",
    "print(\"Village 2 observed proportion of same caste:\", homophily(G2, caste2, pid2))\n",
    "print(\"Village 1 observed proportion of same religion :\", homophily(G1, religion1, pid1))\n",
    "print(\"Village 2 observed proportion of same religion :\", homophily(G2, religion2, pid2))"
   ]
  }
 ],
 "metadata": {
  "kernelspec": {
   "display_name": "Python 3",
   "language": "python",
   "name": "python3"
  },
  "language_info": {
   "codemirror_mode": {
    "name": "ipython",
    "version": 3
   },
   "file_extension": ".py",
   "mimetype": "text/x-python",
   "name": "python",
   "nbconvert_exporter": "python",
   "pygments_lexer": "ipython3",
   "version": "3.6.5"
  }
 },
 "nbformat": 4,
 "nbformat_minor": 2
}
