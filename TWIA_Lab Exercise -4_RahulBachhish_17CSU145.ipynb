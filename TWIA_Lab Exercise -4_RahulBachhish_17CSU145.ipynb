{
 "cells": [
  {
   "cell_type": "markdown",
   "metadata": {},
   "source": [
    "# TWIA Lab Exercise 4"
   ]
  },
  {
   "cell_type": "markdown",
   "metadata": {},
   "source": [
    "## Submitted by : Rahul Bachhish (17CSU145)"
   ]
  },
  {
   "cell_type": "code",
   "execution_count": 1,
   "metadata": {},
   "outputs": [],
   "source": [
    "import nltk\n",
    "from nltk.metrics import *"
   ]
  },
  {
   "cell_type": "code",
   "execution_count": 2,
   "metadata": {},
   "outputs": [
    {
     "data": {
      "text/plain": [
       "['a_and_c.xml',\n",
       " 'dream.xml',\n",
       " 'hamlet.xml',\n",
       " 'j_caesar.xml',\n",
       " 'macbeth.xml',\n",
       " 'merchant.xml',\n",
       " 'othello.xml',\n",
       " 'r_and_j.xml']"
      ]
     },
     "execution_count": 2,
     "metadata": {},
     "output_type": "execute_result"
    }
   ],
   "source": [
    "from nltk.corpus import shakespeare \n",
    "shakespeare.fileids()"
   ]
  },
  {
   "cell_type": "code",
   "execution_count": 3,
   "metadata": {},
   "outputs": [],
   "source": [
    "def textMaker (file):\n",
    "    text=[]\n",
    "    for p in file:\n",
    "        text.extend(list(p.itertext()))\n",
    "    text=\"\".join(text[0:100])\n",
    "    return text"
   ]
  },
  {
   "cell_type": "code",
   "execution_count": 4,
   "metadata": {},
   "outputs": [],
   "source": [
    "text1=textMaker(shakespeare.xml('dream.xml'))"
   ]
  },
  {
   "cell_type": "code",
   "execution_count": 5,
   "metadata": {},
   "outputs": [],
   "source": [
    "text2=textMaker(shakespeare.xml('a_and_c.xml'))"
   ]
  },
  {
   "cell_type": "markdown",
   "metadata": {},
   "source": [
    "### Levenshtein"
   ]
  },
  {
   "cell_type": "code",
   "execution_count": 6,
   "metadata": {},
   "outputs": [
    {
     "data": {
      "text/plain": [
       "1048"
      ]
     },
     "execution_count": 6,
     "metadata": {},
     "output_type": "execute_result"
    }
   ],
   "source": [
    "edit_distance(text1,text2)"
   ]
  },
  {
   "cell_type": "markdown",
   "metadata": {},
   "source": [
    "### Jaccard \n",
    "A intersect B/ A U B"
   ]
  },
  {
   "cell_type": "code",
   "execution_count": 7,
   "metadata": {},
   "outputs": [],
   "source": [
    "regex_token = nltk.RegexpTokenizer(r\"\\w+\")"
   ]
  },
  {
   "cell_type": "code",
   "execution_count": 8,
   "metadata": {},
   "outputs": [],
   "source": [
    "words1=set(regex_token.tokenize(text1))\n"
   ]
  },
  {
   "cell_type": "code",
   "execution_count": 9,
   "metadata": {},
   "outputs": [],
   "source": [
    "words2=set(regex_token.tokenize(text2))\n"
   ]
  },
  {
   "cell_type": "code",
   "execution_count": 10,
   "metadata": {},
   "outputs": [
    {
     "data": {
      "text/plain": [
       "0.07619047619047614"
      ]
     },
     "execution_count": 10,
     "metadata": {},
     "output_type": "execute_result"
    }
   ],
   "source": [
    "1-jaccard_distance(words1,words2)"
   ]
  },
  {
   "cell_type": "code",
   "execution_count": 11,
   "metadata": {},
   "outputs": [
    {
     "data": {
      "text/plain": [
       "0.0761904761904762"
      ]
     },
     "execution_count": 11,
     "metadata": {},
     "output_type": "execute_result"
    }
   ],
   "source": [
    "len(words1.intersection(words2))/len(words1.union(words2))"
   ]
  },
  {
   "cell_type": "markdown",
   "metadata": {},
   "source": [
    "### TFIDF Vectorizer"
   ]
  },
  {
   "cell_type": "code",
   "execution_count": 12,
   "metadata": {},
   "outputs": [],
   "source": [
    "import pandas as pd \n",
    "from sklearn.feature_extraction.text import CountVectorizer \n",
    "from sklearn.feature_extraction.text import TfidfVectorizer"
   ]
  },
  {
   "cell_type": "code",
   "execution_count": 13,
   "metadata": {},
   "outputs": [],
   "source": [
    "doc=[]\n",
    "doc.append(text1)\n",
    "doc.append(text2)"
   ]
  },
  {
   "cell_type": "code",
   "execution_count": 14,
   "metadata": {},
   "outputs": [],
   "source": [
    "tfidf = TfidfVectorizer()\n",
    "X=tfidf.fit_transform(doc)"
   ]
  },
  {
   "cell_type": "code",
   "execution_count": 15,
   "metadata": {},
   "outputs": [
    {
     "name": "stdout",
     "output_type": "stream",
     "text": [
      "['aemilius', 'agrippa', 'alexas', 'amazons', 'ambassador', 'an', 'and', 'another', 'antony', 'apace', 'army', 'athens', 'attendants', 'attending', 'away', 'behold', 'bellows', 'bent', 'betrothed', 'bottom', 'bow', 'bring', 'but', 'caesar', 'canidius', 'carpenter', 'charmian', 'cleopatra', 'clown', 'cobweb', 'dame', 'daughter', 'days', 'demetrius', 'dercetas', 'desires', 'diomedes', 'dolabella', 'domitius', 'dowager', 'dramatis', 'draws', 'dream', 'dreamact', 'duke', 'egeus', 'egypt', 'empire', 'enobarbus', 'enter', 'eros', 'eunuch', 'euphronius', 'fair', 'fairies', 'father', 'flute', 'four', 'friends', 'from', 'gallus', 'general', 'go', 'goodfellow', 'happy', 'heaven', 'helena', 'hermia', 'hippolyta', 'hour', 'how', 'in', 'iras', 'it', 'joiner', 'king', 'lepidus', 'lieutenant', 'like', 'lingers', 'long', 'love', 'lysander', 'man', 'mardian', 'mark', 'master', 'mecaenas', 'menas', 'mender', 'menecrates', 'messengers', 'methinks', 'midsummer', 'moon', 'moth', 'mustardseed', 'my', 'near', 'new', 'night', 'nights', 'now', 'nuptial', 'oberon', 'octavia', 'octavius', 'of', 'officer', 'officers', 'old', 'on', 'or', 'other', 'our', 'out', 'palace', 'parts', 'peaseblossom', 'personae', 'philo', 'philostrate', 'pompeius', 'pompey', 'proculeius', 'puck', 'queen', 'quickly', 'quince', 'revels', 'revenue', 'robin', 'roman', 'scarus', 'scene', 'seleucus', 'several', 'sextus', 'shall', 'she', 'silius', 'silver', 'sister', 'slow', 'snout', 'snug', 'soldiers', 'solemnities', 'soothsayer', 'starveling', 'steep', 'step', 'tailor', 'taurus', 'the', 'their', 'themselves', 'then', 'theseus', 'this', 'thyreus', 'time', 'tinker', 'titania', 'to', 'tragedy', 'triumvirs', 'varrius', 'ventidius', 'wanes', 'weaver', 'wife', 'will', 'with', 'withering', 'wood', 'young']\n"
     ]
    }
   ],
   "source": [
    "print(tfidf.get_feature_names())"
   ]
  },
  {
   "cell_type": "markdown",
   "metadata": {},
   "source": [
    "### Min-df and Max-df"
   ]
  },
  {
   "cell_type": "code",
   "execution_count": 16,
   "metadata": {},
   "outputs": [],
   "source": [
    "tfidf_maxmin = TfidfVectorizer(max_df=0.5,min_df=0.3)\n",
    "Y=tfidf_maxmin.fit_transform(doc)"
   ]
  },
  {
   "cell_type": "code",
   "execution_count": 17,
   "metadata": {},
   "outputs": [
    {
     "name": "stdout",
     "output_type": "stream",
     "text": [
      "['aemilius', 'agrippa', 'alexas', 'amazons', 'ambassador', 'an', 'another', 'antony', 'apace', 'army', 'athens', 'attending', 'away', 'behold', 'bellows', 'bent', 'betrothed', 'bottom', 'bow', 'bring', 'but', 'caesar', 'canidius', 'carpenter', 'charmian', 'cleopatra', 'clown', 'cobweb', 'dame', 'daughter', 'days', 'dercetas', 'desires', 'diomedes', 'dolabella', 'domitius', 'dowager', 'draws', 'dream', 'dreamact', 'duke', 'egeus', 'egypt', 'empire', 'enobarbus', 'enter', 'eros', 'eunuch', 'euphronius', 'fair', 'fairies', 'father', 'flute', 'four', 'friends', 'from', 'gallus', 'general', 'go', 'goodfellow', 'happy', 'heaven', 'helena', 'hermia', 'hippolyta', 'hour', 'how', 'iras', 'it', 'joiner', 'king', 'lepidus', 'lieutenant', 'like', 'lingers', 'long', 'love', 'lysander', 'man', 'mardian', 'mark', 'master', 'mecaenas', 'menas', 'mender', 'menecrates', 'messengers', 'methinks', 'midsummer', 'moon', 'moth', 'mustardseed', 'my', 'near', 'new', 'night', 'nights', 'now', 'nuptial', 'oberon', 'octavia', 'octavius', 'officer', 'officers', 'old', 'or', 'our', 'out', 'palace', 'parts', 'peaseblossom', 'philo', 'philostrate', 'pompeius', 'pompey', 'proculeius', 'puck', 'quickly', 'quince', 'revels', 'revenue', 'robin', 'roman', 'scarus', 'seleucus', 'several', 'sextus', 'shall', 'she', 'silius', 'silver', 'sister', 'slow', 'snout', 'snug', 'soldiers', 'solemnities', 'soothsayer', 'starveling', 'steep', 'step', 'tailor', 'taurus', 'their', 'themselves', 'then', 'theseus', 'this', 'thyreus', 'time', 'tinker', 'titania', 'tragedy', 'triumvirs', 'varrius', 'ventidius', 'wanes', 'weaver', 'wife', 'will', 'with', 'withering', 'wood', 'young']\n"
     ]
    }
   ],
   "source": [
    "print(tfidf_maxmin.get_feature_names())"
   ]
  },
  {
   "cell_type": "markdown",
   "metadata": {},
   "source": [
    "### Words in the vocabulary with the highest TF-IDf score and lowest TF-Idf score"
   ]
  },
  {
   "cell_type": "code",
   "execution_count": 18,
   "metadata": {},
   "outputs": [],
   "source": [
    "vocabScore=dict(zip(tfidf.get_feature_names(), tfidf.idf_))"
   ]
  },
  {
   "cell_type": "code",
   "execution_count": 19,
   "metadata": {},
   "outputs": [],
   "source": [
    "vocab=list(vocabScore.keys())\n",
    "tfidfScore=list(vocabScore.values())"
   ]
  },
  {
   "cell_type": "code",
   "execution_count": 20,
   "metadata": {},
   "outputs": [
    {
     "name": "stdout",
     "output_type": "stream",
     "text": [
      "Word with highest TFIDF Score :  aemilius\n",
      "Word with lowest TFIDF Score :  and\n"
     ]
    }
   ],
   "source": [
    "print(\"Word with highest TFIDF Score : \",vocab[tfidfScore.index(max(tfidfScore))])\n",
    "print(\"Word with lowest TFIDF Score : \",vocab[tfidfScore.index(min(tfidfScore))])"
   ]
  },
  {
   "cell_type": "markdown",
   "metadata": {},
   "source": [
    "### Cosine Similarity"
   ]
  },
  {
   "cell_type": "code",
   "execution_count": 21,
   "metadata": {},
   "outputs": [],
   "source": [
    "from sklearn.metrics.pairwise import cosine_similarity"
   ]
  },
  {
   "cell_type": "code",
   "execution_count": 22,
   "metadata": {},
   "outputs": [
    {
     "data": {
      "text/plain": [
       "0.21818347521725678"
      ]
     },
     "execution_count": 22,
     "metadata": {},
     "output_type": "execute_result"
    }
   ],
   "source": [
    "cosine_similarity(X)[0,1]"
   ]
  },
  {
   "cell_type": "code",
   "execution_count": null,
   "metadata": {},
   "outputs": [],
   "source": []
  }
 ],
 "metadata": {
  "kernelspec": {
   "display_name": "Python 3",
   "language": "python",
   "name": "python3"
  },
  "language_info": {
   "codemirror_mode": {
    "name": "ipython",
    "version": 3
   },
   "file_extension": ".py",
   "mimetype": "text/x-python",
   "name": "python",
   "nbconvert_exporter": "python",
   "pygments_lexer": "ipython3",
   "version": "3.6.5"
  }
 },
 "nbformat": 4,
 "nbformat_minor": 2
}
