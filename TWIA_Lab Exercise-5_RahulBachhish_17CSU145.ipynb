{
 "cells": [
  {
   "cell_type": "markdown",
   "metadata": {},
   "source": [
    "# Latent Dirichlet Allocation"
   ]
  },
  {
   "cell_type": "markdown",
   "metadata": {},
   "source": [
    "Latent Dirichlet Allocation (LDA) is a popular approach for topic modeling. It works by identifying the key topics within a set of text documents, and the key words that make up each topic.\n",
    "\n",
    "Under LDA, each document is assumed to have a mix of underlying (latent) topics, each topic with a certain probability of occurring in the document. Individual text documents can therefore be represented by the topics that make them up.\n",
    "\n",
    "In this way, LDA topic modeling can be used to categorize or classify documents based on their topic content.\n",
    "\n",
    "Each LDA topic model requires:\n",
    "\n",
    "1. A set of documents for training the model—the training corpus\n",
    "2. A dictionary of words to form the vocabulary used in the model—this can be derived from the training corpus\n",
    "\n",
    "\n",
    "Once a model has been trained, it can be applied to a new set of documents to identify the topics in those new documents."
   ]
  },
  {
   "cell_type": "markdown",
   "metadata": {},
   "source": [
    "## Dataset"
   ]
  },
  {
   "cell_type": "code",
   "execution_count": 1,
   "metadata": {},
   "outputs": [],
   "source": [
    "import pandas as pd\n",
    "\n",
    "data = pd.read_csv('abcnews-date-text.csv', error_bad_lines=False);\n",
    "data_text = data[['headline_text']]\n",
    "data_text['index'] = data_text.index\n",
    "documents = data_text"
   ]
  },
  {
   "cell_type": "code",
   "execution_count": 2,
   "metadata": {},
   "outputs": [
    {
     "data": {
      "text/plain": [
       "1103665"
      ]
     },
     "execution_count": 2,
     "metadata": {},
     "output_type": "execute_result"
    }
   ],
   "source": [
    "len(documents)"
   ]
  },
  {
   "cell_type": "code",
   "execution_count": 36,
   "metadata": {},
   "outputs": [
    {
     "data": {
      "text/html": [
       "<div>\n",
       "<style scoped>\n",
       "    .dataframe tbody tr th:only-of-type {\n",
       "        vertical-align: middle;\n",
       "    }\n",
       "\n",
       "    .dataframe tbody tr th {\n",
       "        vertical-align: top;\n",
       "    }\n",
       "\n",
       "    .dataframe thead th {\n",
       "        text-align: right;\n",
       "    }\n",
       "</style>\n",
       "<table border=\"1\" class=\"dataframe\">\n",
       "  <thead>\n",
       "    <tr style=\"text-align: right;\">\n",
       "      <th></th>\n",
       "      <th>headline_text</th>\n",
       "      <th>index</th>\n",
       "    </tr>\n",
       "  </thead>\n",
       "  <tbody>\n",
       "    <tr>\n",
       "      <th>0</th>\n",
       "      <td>aba decides against community broadcasting lic...</td>\n",
       "      <td>0</td>\n",
       "    </tr>\n",
       "    <tr>\n",
       "      <th>1</th>\n",
       "      <td>act fire witnesses must be aware of defamation</td>\n",
       "      <td>1</td>\n",
       "    </tr>\n",
       "    <tr>\n",
       "      <th>2</th>\n",
       "      <td>a g calls for infrastructure protection summit</td>\n",
       "      <td>2</td>\n",
       "    </tr>\n",
       "    <tr>\n",
       "      <th>3</th>\n",
       "      <td>air nz staff in aust strike for pay rise</td>\n",
       "      <td>3</td>\n",
       "    </tr>\n",
       "    <tr>\n",
       "      <th>4</th>\n",
       "      <td>air nz strike to affect australian travellers</td>\n",
       "      <td>4</td>\n",
       "    </tr>\n",
       "    <tr>\n",
       "      <th>5</th>\n",
       "      <td>ambitious olsson wins triple jump</td>\n",
       "      <td>5</td>\n",
       "    </tr>\n",
       "    <tr>\n",
       "      <th>6</th>\n",
       "      <td>antic delighted with record breaking barca</td>\n",
       "      <td>6</td>\n",
       "    </tr>\n",
       "    <tr>\n",
       "      <th>7</th>\n",
       "      <td>aussie qualifier stosur wastes four memphis match</td>\n",
       "      <td>7</td>\n",
       "    </tr>\n",
       "    <tr>\n",
       "      <th>8</th>\n",
       "      <td>aust addresses un security council over iraq</td>\n",
       "      <td>8</td>\n",
       "    </tr>\n",
       "    <tr>\n",
       "      <th>9</th>\n",
       "      <td>australia is locked into war timetable opp</td>\n",
       "      <td>9</td>\n",
       "    </tr>\n",
       "  </tbody>\n",
       "</table>\n",
       "</div>"
      ],
      "text/plain": [
       "                                       headline_text  index\n",
       "0  aba decides against community broadcasting lic...      0\n",
       "1     act fire witnesses must be aware of defamation      1\n",
       "2     a g calls for infrastructure protection summit      2\n",
       "3           air nz staff in aust strike for pay rise      3\n",
       "4      air nz strike to affect australian travellers      4\n",
       "5                  ambitious olsson wins triple jump      5\n",
       "6         antic delighted with record breaking barca      6\n",
       "7  aussie qualifier stosur wastes four memphis match      7\n",
       "8       aust addresses un security council over iraq      8\n",
       "9         australia is locked into war timetable opp      9"
      ]
     },
     "execution_count": 36,
     "metadata": {},
     "output_type": "execute_result"
    }
   ],
   "source": [
    "documents.head(10)"
   ]
  },
  {
   "cell_type": "markdown",
   "metadata": {},
   "source": [
    "## Pre-processing"
   ]
  },
  {
   "cell_type": "code",
   "execution_count": 4,
   "metadata": {},
   "outputs": [
    {
     "name": "stderr",
     "output_type": "stream",
     "text": [
      "C:\\Users\\Rahul\\Anaconda3\\lib\\site-packages\\gensim\\similarities\\__init__.py:15: UserWarning: The gensim.similarities.levenshtein submodule is disabled, because the optional Levenshtein package <https://pypi.org/project/python-Levenshtein/> is unavailable. Install Levenhstein (e.g. `pip install python-Levenshtein`) to suppress this warning.\n",
      "  warnings.warn(msg)\n"
     ]
    }
   ],
   "source": [
    "import gensim\n",
    "from gensim.utils import simple_preprocess\n",
    "from gensim.parsing.preprocessing import STOPWORDS\n",
    "from nltk.stem import WordNetLemmatizer, SnowballStemmer\n",
    "from nltk.stem.porter import *\n",
    "import numpy as np\n",
    "np.random.seed(2018)"
   ]
  },
  {
   "cell_type": "code",
   "execution_count": 2,
   "metadata": {},
   "outputs": [],
   "source": [
    "import numpy as np"
   ]
  },
  {
   "cell_type": "code",
   "execution_count": 3,
   "metadata": {},
   "outputs": [
    {
     "data": {
      "text/plain": [
       "'1.14.3'"
      ]
     },
     "execution_count": 3,
     "metadata": {},
     "output_type": "execute_result"
    }
   ],
   "source": [
    "np.version.version"
   ]
  },
  {
   "cell_type": "code",
   "execution_count": 5,
   "metadata": {},
   "outputs": [
    {
     "data": {
      "text/plain": [
       "'1.19.5'"
      ]
     },
     "execution_count": 5,
     "metadata": {},
     "output_type": "execute_result"
    }
   ],
   "source": [
    "np.version.version"
   ]
  },
  {
   "cell_type": "code",
   "execution_count": 5,
   "metadata": {},
   "outputs": [
    {
     "name": "stdout",
     "output_type": "stream",
     "text": [
      "[nltk_data] Downloading package wordnet to\n",
      "[nltk_data]     C:\\Users\\Rahul\\AppData\\Roaming\\nltk_data...\n",
      "[nltk_data]   Package wordnet is already up-to-date!\n"
     ]
    },
    {
     "data": {
      "text/plain": [
       "True"
      ]
     },
     "execution_count": 5,
     "metadata": {},
     "output_type": "execute_result"
    }
   ],
   "source": [
    "import nltk\n",
    "nltk.download('wordnet')"
   ]
  },
  {
   "cell_type": "code",
   "execution_count": 6,
   "metadata": {},
   "outputs": [
    {
     "name": "stdout",
     "output_type": "stream",
     "text": [
      "go\n"
     ]
    }
   ],
   "source": [
    "print(WordNetLemmatizer().lemmatize('went', pos='v'))"
   ]
  },
  {
   "cell_type": "code",
   "execution_count": 7,
   "metadata": {},
   "outputs": [
    {
     "data": {
      "text/html": [
       "<div>\n",
       "<style scoped>\n",
       "    .dataframe tbody tr th:only-of-type {\n",
       "        vertical-align: middle;\n",
       "    }\n",
       "\n",
       "    .dataframe tbody tr th {\n",
       "        vertical-align: top;\n",
       "    }\n",
       "\n",
       "    .dataframe thead th {\n",
       "        text-align: right;\n",
       "    }\n",
       "</style>\n",
       "<table border=\"1\" class=\"dataframe\">\n",
       "  <thead>\n",
       "    <tr style=\"text-align: right;\">\n",
       "      <th></th>\n",
       "      <th>original word</th>\n",
       "      <th>stemmed</th>\n",
       "    </tr>\n",
       "  </thead>\n",
       "  <tbody>\n",
       "    <tr>\n",
       "      <th>0</th>\n",
       "      <td>caresses</td>\n",
       "      <td>caress</td>\n",
       "    </tr>\n",
       "    <tr>\n",
       "      <th>1</th>\n",
       "      <td>flies</td>\n",
       "      <td>fli</td>\n",
       "    </tr>\n",
       "    <tr>\n",
       "      <th>2</th>\n",
       "      <td>dies</td>\n",
       "      <td>die</td>\n",
       "    </tr>\n",
       "    <tr>\n",
       "      <th>3</th>\n",
       "      <td>mules</td>\n",
       "      <td>mule</td>\n",
       "    </tr>\n",
       "    <tr>\n",
       "      <th>4</th>\n",
       "      <td>denied</td>\n",
       "      <td>deni</td>\n",
       "    </tr>\n",
       "    <tr>\n",
       "      <th>5</th>\n",
       "      <td>died</td>\n",
       "      <td>die</td>\n",
       "    </tr>\n",
       "    <tr>\n",
       "      <th>6</th>\n",
       "      <td>agreed</td>\n",
       "      <td>agre</td>\n",
       "    </tr>\n",
       "    <tr>\n",
       "      <th>7</th>\n",
       "      <td>owned</td>\n",
       "      <td>own</td>\n",
       "    </tr>\n",
       "    <tr>\n",
       "      <th>8</th>\n",
       "      <td>humbled</td>\n",
       "      <td>humbl</td>\n",
       "    </tr>\n",
       "    <tr>\n",
       "      <th>9</th>\n",
       "      <td>sized</td>\n",
       "      <td>size</td>\n",
       "    </tr>\n",
       "    <tr>\n",
       "      <th>10</th>\n",
       "      <td>meeting</td>\n",
       "      <td>meet</td>\n",
       "    </tr>\n",
       "    <tr>\n",
       "      <th>11</th>\n",
       "      <td>stating</td>\n",
       "      <td>state</td>\n",
       "    </tr>\n",
       "    <tr>\n",
       "      <th>12</th>\n",
       "      <td>siezing</td>\n",
       "      <td>siez</td>\n",
       "    </tr>\n",
       "    <tr>\n",
       "      <th>13</th>\n",
       "      <td>itemization</td>\n",
       "      <td>item</td>\n",
       "    </tr>\n",
       "    <tr>\n",
       "      <th>14</th>\n",
       "      <td>sensational</td>\n",
       "      <td>sensat</td>\n",
       "    </tr>\n",
       "    <tr>\n",
       "      <th>15</th>\n",
       "      <td>traditional</td>\n",
       "      <td>tradit</td>\n",
       "    </tr>\n",
       "    <tr>\n",
       "      <th>16</th>\n",
       "      <td>reference</td>\n",
       "      <td>refer</td>\n",
       "    </tr>\n",
       "    <tr>\n",
       "      <th>17</th>\n",
       "      <td>colonizer</td>\n",
       "      <td>colon</td>\n",
       "    </tr>\n",
       "    <tr>\n",
       "      <th>18</th>\n",
       "      <td>plotted</td>\n",
       "      <td>plot</td>\n",
       "    </tr>\n",
       "  </tbody>\n",
       "</table>\n",
       "</div>"
      ],
      "text/plain": [
       "   original word stemmed\n",
       "0       caresses  caress\n",
       "1          flies     fli\n",
       "2           dies     die\n",
       "3          mules    mule\n",
       "4         denied    deni\n",
       "5           died     die\n",
       "6         agreed    agre\n",
       "7          owned     own\n",
       "8        humbled   humbl\n",
       "9          sized    size\n",
       "10       meeting    meet\n",
       "11       stating   state\n",
       "12       siezing    siez\n",
       "13   itemization    item\n",
       "14   sensational  sensat\n",
       "15   traditional  tradit\n",
       "16     reference   refer\n",
       "17     colonizer   colon\n",
       "18       plotted    plot"
      ]
     },
     "execution_count": 7,
     "metadata": {},
     "output_type": "execute_result"
    }
   ],
   "source": [
    "stemmer = SnowballStemmer('english')\n",
    "original_words = ['caresses', 'flies', 'dies', 'mules', 'denied','died', 'agreed', 'owned', \n",
    "           'humbled', 'sized','meeting', 'stating', 'siezing', 'itemization','sensational', \n",
    "           'traditional', 'reference', 'colonizer','plotted']\n",
    "singles = [stemmer.stem(plural) for plural in original_words]\n",
    "pd.DataFrame(data = {'original word': original_words, 'stemmed': singles})"
   ]
  },
  {
   "cell_type": "code",
   "execution_count": 8,
   "metadata": {},
   "outputs": [],
   "source": [
    "def lemmatize_stemming(text):\n",
    "    return stemmer.stem(WordNetLemmatizer().lemmatize(text, pos='v'))\n",
    "\n",
    "def preprocess(text):\n",
    "    result = []\n",
    "    for token in gensim.utils.simple_preprocess(text):\n",
    "        if token not in gensim.parsing.preprocessing.STOPWORDS and len(token) > 3:\n",
    "            result.append(lemmatize_stemming(token))\n",
    "    return result"
   ]
  },
  {
   "cell_type": "markdown",
   "metadata": {},
   "source": [
    "## Reviewing a Pre-Processed Document"
   ]
  },
  {
   "cell_type": "code",
   "execution_count": 9,
   "metadata": {},
   "outputs": [
    {
     "name": "stdout",
     "output_type": "stream",
     "text": [
      "original document: \n",
      "['rain', 'helps', 'dampen', 'bushfires']\n",
      "\n",
      "\n",
      " tokenized and lemmatized document: \n",
      "['rain', 'help', 'dampen', 'bushfir']\n"
     ]
    }
   ],
   "source": [
    "doc_sample = documents[documents['index'] == 4310].values[0][0]\n",
    "\n",
    "print('original document: ')\n",
    "words = []\n",
    "for word in doc_sample.split(' '):\n",
    "    words.append(word)\n",
    "print(words)\n",
    "print('\\n\\n tokenized and lemmatized document: ')\n",
    "print(preprocess(doc_sample))"
   ]
  },
  {
   "cell_type": "code",
   "execution_count": 10,
   "metadata": {},
   "outputs": [],
   "source": [
    "processed_docs = documents['headline_text'].map(preprocess)"
   ]
  },
  {
   "cell_type": "code",
   "execution_count": 11,
   "metadata": {},
   "outputs": [
    {
     "data": {
      "text/plain": [
       "0            [decid, communiti, broadcast, licenc]\n",
       "1                               [wit, awar, defam]\n",
       "2           [call, infrastructur, protect, summit]\n",
       "3                      [staff, aust, strike, rise]\n",
       "4             [strike, affect, australian, travel]\n",
       "5               [ambiti, olsson, win, tripl, jump]\n",
       "6           [antic, delight, record, break, barca]\n",
       "7    [aussi, qualifi, stosur, wast, memphi, match]\n",
       "8            [aust, address, secur, council, iraq]\n",
       "9                         [australia, lock, timet]\n",
       "Name: headline_text, dtype: object"
      ]
     },
     "execution_count": 11,
     "metadata": {},
     "output_type": "execute_result"
    }
   ],
   "source": [
    "processed_docs[:10]"
   ]
  },
  {
   "cell_type": "code",
   "execution_count": 37,
   "metadata": {},
   "outputs": [
    {
     "data": {
      "text/html": [
       "<div>\n",
       "<style scoped>\n",
       "    .dataframe tbody tr th:only-of-type {\n",
       "        vertical-align: middle;\n",
       "    }\n",
       "\n",
       "    .dataframe tbody tr th {\n",
       "        vertical-align: top;\n",
       "    }\n",
       "\n",
       "    .dataframe thead th {\n",
       "        text-align: right;\n",
       "    }\n",
       "</style>\n",
       "<table border=\"1\" class=\"dataframe\">\n",
       "  <thead>\n",
       "    <tr style=\"text-align: right;\">\n",
       "      <th></th>\n",
       "      <th>headline_text</th>\n",
       "      <th>index</th>\n",
       "    </tr>\n",
       "  </thead>\n",
       "  <tbody>\n",
       "    <tr>\n",
       "      <th>0</th>\n",
       "      <td>aba decides against community broadcasting lic...</td>\n",
       "      <td>0</td>\n",
       "    </tr>\n",
       "    <tr>\n",
       "      <th>1</th>\n",
       "      <td>act fire witnesses must be aware of defamation</td>\n",
       "      <td>1</td>\n",
       "    </tr>\n",
       "    <tr>\n",
       "      <th>2</th>\n",
       "      <td>a g calls for infrastructure protection summit</td>\n",
       "      <td>2</td>\n",
       "    </tr>\n",
       "    <tr>\n",
       "      <th>3</th>\n",
       "      <td>air nz staff in aust strike for pay rise</td>\n",
       "      <td>3</td>\n",
       "    </tr>\n",
       "    <tr>\n",
       "      <th>4</th>\n",
       "      <td>air nz strike to affect australian travellers</td>\n",
       "      <td>4</td>\n",
       "    </tr>\n",
       "  </tbody>\n",
       "</table>\n",
       "</div>"
      ],
      "text/plain": [
       "                                       headline_text  index\n",
       "0  aba decides against community broadcasting lic...      0\n",
       "1     act fire witnesses must be aware of defamation      1\n",
       "2     a g calls for infrastructure protection summit      2\n",
       "3           air nz staff in aust strike for pay rise      3\n",
       "4      air nz strike to affect australian travellers      4"
      ]
     },
     "execution_count": 37,
     "metadata": {},
     "output_type": "execute_result"
    }
   ],
   "source": [
    "documents.head()"
   ]
  },
  {
   "cell_type": "markdown",
   "metadata": {},
   "source": [
    "## Bag of Words on the Data set\n",
    "\n",
    "Create a dictionary from ‘processed_docs’ containing the number of times a word appears in the training set."
   ]
  },
  {
   "cell_type": "code",
   "execution_count": 12,
   "metadata": {},
   "outputs": [],
   "source": [
    "dictionary = gensim.corpora.Dictionary(processed_docs)"
   ]
  },
  {
   "cell_type": "code",
   "execution_count": 13,
   "metadata": {},
   "outputs": [
    {
     "name": "stdout",
     "output_type": "stream",
     "text": [
      "0 broadcast\n",
      "1 communiti\n",
      "2 decid\n",
      "3 licenc\n",
      "4 awar\n",
      "5 defam\n",
      "6 wit\n",
      "7 call\n",
      "8 infrastructur\n",
      "9 protect\n",
      "10 summit\n"
     ]
    }
   ],
   "source": [
    "count = 0\n",
    "for k, v in dictionary.iteritems():\n",
    "    print(k, v)\n",
    "    count += 1\n",
    "    if count > 10:\n",
    "        break"
   ]
  },
  {
   "cell_type": "code",
   "execution_count": null,
   "metadata": {},
   "outputs": [],
   "source": []
  },
  {
   "cell_type": "markdown",
   "metadata": {},
   "source": [
    "## Gensim doc2bow"
   ]
  },
  {
   "cell_type": "markdown",
   "metadata": {},
   "source": [
    "For each document we create a dictionary reporting how many\n",
    "words and how many times those words appear. Save this to ‘bow_corpus’, then check our selected document earlier."
   ]
  },
  {
   "cell_type": "code",
   "execution_count": 14,
   "metadata": {},
   "outputs": [],
   "source": [
    "dictionary.filter_extremes(no_below=15, no_above=0.5, keep_n=100000)"
   ]
  },
  {
   "cell_type": "code",
   "execution_count": 15,
   "metadata": {},
   "outputs": [
    {
     "data": {
      "text/plain": [
       "[(76, 1), (112, 1), (483, 1), (4014, 1)]"
      ]
     },
     "execution_count": 15,
     "metadata": {},
     "output_type": "execute_result"
    }
   ],
   "source": [
    "bow_corpus = [dictionary.doc2bow(doc) for doc in processed_docs]\n",
    "bow_corpus[4310]"
   ]
  },
  {
   "cell_type": "code",
   "execution_count": 16,
   "metadata": {},
   "outputs": [
    {
     "name": "stdout",
     "output_type": "stream",
     "text": [
      "Word 76 (\"bushfir\") appears 1 time.\n",
      "Word 112 (\"help\") appears 1 time.\n",
      "Word 483 (\"rain\") appears 1 time.\n",
      "Word 4014 (\"dampen\") appears 1 time.\n"
     ]
    }
   ],
   "source": [
    "bow_doc_4310 = bow_corpus[4310]\n",
    "\n",
    "for i in range(len(bow_doc_4310)):\n",
    "    print(\"Word {} (\\\"{}\\\") appears {} time.\".format(bow_doc_4310[i][0], \n",
    "                                                     dictionary[bow_doc_4310[i][0]], \n",
    "                                                     bow_doc_4310[i][1]))"
   ]
  },
  {
   "cell_type": "code",
   "execution_count": 17,
   "metadata": {},
   "outputs": [],
   "source": [
    "from gensim import corpora, models\n",
    "\n",
    "tfidf = models.TfidfModel(bow_corpus)"
   ]
  },
  {
   "cell_type": "code",
   "execution_count": 18,
   "metadata": {},
   "outputs": [],
   "source": [
    "corpus_tfidf = tfidf[bow_corpus]"
   ]
  },
  {
   "cell_type": "code",
   "execution_count": 19,
   "metadata": {},
   "outputs": [
    {
     "name": "stdout",
     "output_type": "stream",
     "text": [
      "[(0, 0.5892908644709983),\n",
      " (1, 0.38929657403503015),\n",
      " (2, 0.4964985198530063),\n",
      " (3, 0.5046520328695662)]\n"
     ]
    }
   ],
   "source": [
    "from pprint import pprint\n",
    "\n",
    "for doc in corpus_tfidf:\n",
    "    pprint(doc)\n",
    "    break"
   ]
  },
  {
   "cell_type": "code",
   "execution_count": 20,
   "metadata": {},
   "outputs": [],
   "source": [
    "lda_model = gensim.models.LdaMulticore(bow_corpus, num_topics=10, id2word=dictionary, passes=2, workers=2)"
   ]
  },
  {
   "cell_type": "code",
   "execution_count": 21,
   "metadata": {},
   "outputs": [
    {
     "name": "stdout",
     "output_type": "stream",
     "text": [
      "Topic: 0 \n",
      "Words: 0.027*\"elect\" + 0.022*\"nation\" + 0.016*\"rural\" + 0.014*\"say\" + 0.014*\"chang\" + 0.014*\"labor\" + 0.013*\"deal\" + 0.010*\"talk\" + 0.010*\"vote\" + 0.010*\"leader\"\n",
      "Topic: 1 \n",
      "Words: 0.020*\"australia\" + 0.020*\"world\" + 0.018*\"women\" + 0.017*\"final\" + 0.015*\"win\" + 0.015*\"indigen\" + 0.014*\"time\" + 0.013*\"leagu\" + 0.012*\"australian\" + 0.011*\"lead\"\n",
      "Topic: 2 \n",
      "Words: 0.026*\"crash\" + 0.023*\"die\" + 0.016*\"investig\" + 0.015*\"feder\" + 0.015*\"polic\" + 0.015*\"road\" + 0.015*\"protest\" + 0.015*\"hospit\" + 0.013*\"help\" + 0.012*\"public\"\n",
      "Topic: 3 \n",
      "Words: 0.028*\"melbourn\" + 0.021*\"perth\" + 0.016*\"tasmanian\" + 0.016*\"tasmania\" + 0.015*\"home\" + 0.013*\"sydney\" + 0.012*\"return\" + 0.011*\"guilti\" + 0.011*\"dead\" + 0.011*\"record\"\n",
      "Topic: 4 \n",
      "Words: 0.021*\"test\" + 0.021*\"market\" + 0.019*\"hous\" + 0.015*\"share\" + 0.015*\"price\" + 0.013*\"fall\" + 0.013*\"rise\" + 0.013*\"power\" + 0.012*\"busi\" + 0.012*\"news\"\n",
      "Topic: 5 \n",
      "Words: 0.034*\"polic\" + 0.030*\"charg\" + 0.028*\"court\" + 0.025*\"queensland\" + 0.022*\"murder\" + 0.019*\"face\" + 0.018*\"attack\" + 0.017*\"alleg\" + 0.016*\"brisban\" + 0.016*\"interview\"\n",
      "Topic: 6 \n",
      "Words: 0.026*\"trump\" + 0.024*\"govern\" + 0.020*\"say\" + 0.015*\"school\" + 0.014*\"countri\" + 0.013*\"health\" + 0.013*\"fund\" + 0.011*\"donald\" + 0.011*\"hour\" + 0.010*\"water\"\n",
      "Topic: 7 \n",
      "Words: 0.028*\"south\" + 0.026*\"north\" + 0.024*\"coast\" + 0.017*\"west\" + 0.014*\"train\" + 0.014*\"gold\" + 0.014*\"victoria\" + 0.013*\"flood\" + 0.013*\"polit\" + 0.011*\"darwin\"\n",
      "Topic: 8 \n",
      "Words: 0.031*\"death\" + 0.021*\"year\" + 0.017*\"turnbul\" + 0.016*\"leav\" + 0.015*\"island\" + 0.014*\"china\" + 0.013*\"royal\" + 0.012*\"forc\" + 0.011*\"drum\" + 0.010*\"commiss\"\n",
      "Topic: 9 \n",
      "Words: 0.023*\"kill\" + 0.020*\"live\" + 0.019*\"miss\" + 0.016*\"peopl\" + 0.015*\"life\" + 0.014*\"farmer\" + 0.013*\"sentenc\" + 0.013*\"citi\" + 0.013*\"assault\" + 0.012*\"week\"\n"
     ]
    }
   ],
   "source": [
    "for idx, topic in lda_model.print_topics(-1):\n",
    "    print('Topic: {} \\nWords: {}'.format(idx, topic))"
   ]
  },
  {
   "cell_type": "code",
   "execution_count": 22,
   "metadata": {},
   "outputs": [],
   "source": [
    "lda_model_tfidf = gensim.models.LdaMulticore(corpus_tfidf, num_topics=10, id2word=dictionary, passes=2, workers=4)"
   ]
  },
  {
   "cell_type": "code",
   "execution_count": 23,
   "metadata": {},
   "outputs": [
    {
     "name": "stdout",
     "output_type": "stream",
     "text": [
      "Topic: 0 Word: 0.009*\"sport\" + 0.007*\"kill\" + 0.007*\"octob\" + 0.007*\"monday\" + 0.007*\"stori\" + 0.006*\"presid\" + 0.006*\"east\" + 0.006*\"syria\" + 0.006*\"islam\" + 0.005*\"south\"\n",
      "Topic: 1 Word: 0.011*\"hobart\" + 0.010*\"grandstand\" + 0.009*\"plead\" + 0.008*\"wednesday\" + 0.007*\"climat\" + 0.007*\"shark\" + 0.005*\"beach\" + 0.005*\"plane\" + 0.005*\"insid\" + 0.005*\"money\"\n",
      "Topic: 2 Word: 0.013*\"govern\" + 0.007*\"budget\" + 0.007*\"fund\" + 0.006*\"say\" + 0.006*\"council\" + 0.006*\"labor\" + 0.006*\"plan\" + 0.006*\"elect\" + 0.005*\"hill\" + 0.005*\"cut\"\n",
      "Topic: 3 Word: 0.007*\"energi\" + 0.007*\"mental\" + 0.006*\"bushfir\" + 0.006*\"health\" + 0.006*\"emerg\" + 0.006*\"cancer\" + 0.005*\"disabl\" + 0.005*\"tree\" + 0.005*\"patient\" + 0.005*\"pacif\"\n",
      "Topic: 4 Word: 0.009*\"john\" + 0.009*\"royal\" + 0.008*\"abbott\" + 0.008*\"commiss\" + 0.008*\"farm\" + 0.007*\"coal\" + 0.007*\"juli\" + 0.007*\"peter\" + 0.006*\"andrew\" + 0.006*\"toni\"\n",
      "Topic: 5 Word: 0.020*\"interview\" + 0.014*\"drum\" + 0.013*\"donald\" + 0.010*\"abus\" + 0.009*\"child\" + 0.008*\"friday\" + 0.008*\"sexual\" + 0.008*\"tuesday\" + 0.007*\"thursday\" + 0.007*\"care\"\n",
      "Topic: 6 Word: 0.020*\"polic\" + 0.019*\"charg\" + 0.015*\"murder\" + 0.013*\"woman\" + 0.012*\"crash\" + 0.012*\"court\" + 0.011*\"death\" + 0.010*\"alleg\" + 0.010*\"shoot\" + 0.009*\"jail\"\n",
      "Topic: 7 Word: 0.025*\"countri\" + 0.023*\"hour\" + 0.012*\"podcast\" + 0.011*\"christma\" + 0.006*\"june\" + 0.006*\"action\" + 0.006*\"univers\" + 0.005*\"april\" + 0.005*\"explain\" + 0.005*\"legal\"\n",
      "Topic: 8 Word: 0.021*\"trump\" + 0.014*\"rural\" + 0.014*\"news\" + 0.011*\"live\" + 0.009*\"market\" + 0.008*\"peopl\" + 0.007*\"australian\" + 0.007*\"australia\" + 0.007*\"marriag\" + 0.007*\"nation\"\n",
      "Topic: 9 Word: 0.010*\"turnbul\" + 0.010*\"weather\" + 0.008*\"australia\" + 0.008*\"storm\" + 0.007*\"ash\" + 0.007*\"leagu\" + 0.007*\"michael\" + 0.006*\"tasmania\" + 0.006*\"rugbi\" + 0.006*\"celebr\"\n"
     ]
    }
   ],
   "source": [
    "for idx, topic in lda_model_tfidf.print_topics(-1):\n",
    "    print('Topic: {} Word: {}'.format(idx, topic))"
   ]
  },
  {
   "cell_type": "markdown",
   "metadata": {},
   "source": [
    "Classification of the topics"
   ]
  },
  {
   "cell_type": "code",
   "execution_count": 24,
   "metadata": {},
   "outputs": [
    {
     "data": {
      "text/plain": [
       "['rain', 'help', 'dampen', 'bushfir']"
      ]
     },
     "execution_count": 24,
     "metadata": {},
     "output_type": "execute_result"
    }
   ],
   "source": [
    "processed_docs[4310]"
   ]
  },
  {
   "cell_type": "code",
   "execution_count": 25,
   "metadata": {},
   "outputs": [
    {
     "name": "stdout",
     "output_type": "stream",
     "text": [
      "\n",
      "Score: 0.3450404405593872\t \n",
      "Topic: 0.028*\"south\" + 0.026*\"north\" + 0.024*\"coast\" + 0.017*\"west\" + 0.014*\"train\" + 0.014*\"gold\" + 0.014*\"victoria\" + 0.013*\"flood\" + 0.013*\"polit\" + 0.011*\"darwin\"\n",
      "\n",
      "Score: 0.295529305934906\t \n",
      "Topic: 0.026*\"crash\" + 0.023*\"die\" + 0.016*\"investig\" + 0.015*\"feder\" + 0.015*\"polic\" + 0.015*\"road\" + 0.015*\"protest\" + 0.015*\"hospit\" + 0.013*\"help\" + 0.012*\"public\"\n",
      "\n",
      "Score: 0.21928861737251282\t \n",
      "Topic: 0.020*\"australia\" + 0.020*\"world\" + 0.018*\"women\" + 0.017*\"final\" + 0.015*\"win\" + 0.015*\"indigen\" + 0.014*\"time\" + 0.013*\"leagu\" + 0.012*\"australian\" + 0.011*\"lead\"\n",
      "\n",
      "Score: 0.020022952929139137\t \n",
      "Topic: 0.031*\"death\" + 0.021*\"year\" + 0.017*\"turnbul\" + 0.016*\"leav\" + 0.015*\"island\" + 0.014*\"china\" + 0.013*\"royal\" + 0.012*\"forc\" + 0.011*\"drum\" + 0.010*\"commiss\"\n",
      "\n",
      "Score: 0.020021997392177582\t \n",
      "Topic: 0.026*\"trump\" + 0.024*\"govern\" + 0.020*\"say\" + 0.015*\"school\" + 0.014*\"countri\" + 0.013*\"health\" + 0.013*\"fund\" + 0.011*\"donald\" + 0.011*\"hour\" + 0.010*\"water\"\n",
      "\n",
      "Score: 0.020019428804516792\t \n",
      "Topic: 0.023*\"kill\" + 0.020*\"live\" + 0.019*\"miss\" + 0.016*\"peopl\" + 0.015*\"life\" + 0.014*\"farmer\" + 0.013*\"sentenc\" + 0.013*\"citi\" + 0.013*\"assault\" + 0.012*\"week\"\n",
      "\n",
      "Score: 0.020019320771098137\t \n",
      "Topic: 0.021*\"test\" + 0.021*\"market\" + 0.019*\"hous\" + 0.015*\"share\" + 0.015*\"price\" + 0.013*\"fall\" + 0.013*\"rise\" + 0.013*\"power\" + 0.012*\"busi\" + 0.012*\"news\"\n",
      "\n",
      "Score: 0.02001931518316269\t \n",
      "Topic: 0.027*\"elect\" + 0.022*\"nation\" + 0.016*\"rural\" + 0.014*\"say\" + 0.014*\"chang\" + 0.014*\"labor\" + 0.013*\"deal\" + 0.010*\"talk\" + 0.010*\"vote\" + 0.010*\"leader\"\n",
      "\n",
      "Score: 0.02001931518316269\t \n",
      "Topic: 0.028*\"melbourn\" + 0.021*\"perth\" + 0.016*\"tasmanian\" + 0.016*\"tasmania\" + 0.015*\"home\" + 0.013*\"sydney\" + 0.012*\"return\" + 0.011*\"guilti\" + 0.011*\"dead\" + 0.011*\"record\"\n",
      "\n",
      "Score: 0.02001931518316269\t \n",
      "Topic: 0.034*\"polic\" + 0.030*\"charg\" + 0.028*\"court\" + 0.025*\"queensland\" + 0.022*\"murder\" + 0.019*\"face\" + 0.018*\"attack\" + 0.017*\"alleg\" + 0.016*\"brisban\" + 0.016*\"interview\"\n"
     ]
    }
   ],
   "source": [
    "for index, score in sorted(lda_model[bow_corpus[4310]], key=lambda tup: -1*tup[1]):\n",
    "    print(\"\\nScore: {}\\t \\nTopic: {}\".format(score, lda_model.print_topic(index, 10)))"
   ]
  },
  {
   "cell_type": "code",
   "execution_count": 26,
   "metadata": {},
   "outputs": [
    {
     "name": "stdout",
     "output_type": "stream",
     "text": [
      "\n",
      "Score: 0.4246877133846283\t \n",
      "Topic: 0.010*\"turnbul\" + 0.010*\"weather\" + 0.008*\"australia\" + 0.008*\"storm\" + 0.007*\"ash\" + 0.007*\"leagu\" + 0.007*\"michael\" + 0.006*\"tasmania\" + 0.006*\"rugbi\" + 0.006*\"celebr\"\n",
      "\n",
      "Score: 0.4152609705924988\t \n",
      "Topic: 0.007*\"energi\" + 0.007*\"mental\" + 0.006*\"bushfir\" + 0.006*\"health\" + 0.006*\"emerg\" + 0.006*\"cancer\" + 0.005*\"disabl\" + 0.005*\"tree\" + 0.005*\"patient\" + 0.005*\"pacif\"\n",
      "\n",
      "Score: 0.020007260143756866\t \n",
      "Topic: 0.013*\"govern\" + 0.007*\"budget\" + 0.007*\"fund\" + 0.006*\"say\" + 0.006*\"council\" + 0.006*\"labor\" + 0.006*\"plan\" + 0.006*\"elect\" + 0.005*\"hill\" + 0.005*\"cut\"\n",
      "\n",
      "Score: 0.020006943494081497\t \n",
      "Topic: 0.025*\"countri\" + 0.023*\"hour\" + 0.012*\"podcast\" + 0.011*\"christma\" + 0.006*\"june\" + 0.006*\"action\" + 0.006*\"univers\" + 0.005*\"april\" + 0.005*\"explain\" + 0.005*\"legal\"\n",
      "\n",
      "Score: 0.020006701350212097\t \n",
      "Topic: 0.009*\"john\" + 0.009*\"royal\" + 0.008*\"abbott\" + 0.008*\"commiss\" + 0.008*\"farm\" + 0.007*\"coal\" + 0.007*\"juli\" + 0.007*\"peter\" + 0.006*\"andrew\" + 0.006*\"toni\"\n",
      "\n",
      "Score: 0.020006395876407623\t \n",
      "Topic: 0.020*\"polic\" + 0.019*\"charg\" + 0.015*\"murder\" + 0.013*\"woman\" + 0.012*\"crash\" + 0.012*\"court\" + 0.011*\"death\" + 0.010*\"alleg\" + 0.010*\"shoot\" + 0.009*\"jail\"\n",
      "\n",
      "Score: 0.020006325095891953\t \n",
      "Topic: 0.009*\"sport\" + 0.007*\"kill\" + 0.007*\"octob\" + 0.007*\"monday\" + 0.007*\"stori\" + 0.006*\"presid\" + 0.006*\"east\" + 0.006*\"syria\" + 0.006*\"islam\" + 0.005*\"south\"\n",
      "\n",
      "Score: 0.020006095990538597\t \n",
      "Topic: 0.020*\"interview\" + 0.014*\"drum\" + 0.013*\"donald\" + 0.010*\"abus\" + 0.009*\"child\" + 0.008*\"friday\" + 0.008*\"sexual\" + 0.008*\"tuesday\" + 0.007*\"thursday\" + 0.007*\"care\"\n",
      "\n",
      "Score: 0.02000591717660427\t \n",
      "Topic: 0.011*\"hobart\" + 0.010*\"grandstand\" + 0.009*\"plead\" + 0.008*\"wednesday\" + 0.007*\"climat\" + 0.007*\"shark\" + 0.005*\"beach\" + 0.005*\"plane\" + 0.005*\"insid\" + 0.005*\"money\"\n",
      "\n",
      "Score: 0.020005706697702408\t \n",
      "Topic: 0.021*\"trump\" + 0.014*\"rural\" + 0.014*\"news\" + 0.011*\"live\" + 0.009*\"market\" + 0.008*\"peopl\" + 0.007*\"australian\" + 0.007*\"australia\" + 0.007*\"marriag\" + 0.007*\"nation\"\n"
     ]
    }
   ],
   "source": [
    "for index, score in sorted(lda_model_tfidf[bow_corpus[4310]], key=lambda tup: -1*tup[1]):\n",
    "    print(\"\\nScore: {}\\t \\nTopic: {}\".format(score, lda_model_tfidf.print_topic(index, 10)))"
   ]
  },
  {
   "cell_type": "code",
   "execution_count": null,
   "metadata": {},
   "outputs": [],
   "source": []
  },
  {
   "cell_type": "markdown",
   "metadata": {},
   "source": [
    "## Comparison on Basis of BoW and TFIDF"
   ]
  },
  {
   "cell_type": "code",
   "execution_count": 43,
   "metadata": {},
   "outputs": [
    {
     "data": {
      "text/plain": [
       "['rain', 'help', 'dampen', 'bushfir']"
      ]
     },
     "execution_count": 43,
     "metadata": {},
     "output_type": "execute_result"
    }
   ],
   "source": [
    "processed_docs[4310]"
   ]
  },
  {
   "cell_type": "code",
   "execution_count": 61,
   "metadata": {},
   "outputs": [],
   "source": [
    "Bow_index,Bow_topic_score=sorted(lda_model[bow_corpus[4310]], key=lambda tup: -1*tup[1])[0]"
   ]
  },
  {
   "cell_type": "code",
   "execution_count": 63,
   "metadata": {},
   "outputs": [
    {
     "name": "stdout",
     "output_type": "stream",
     "text": [
      "\n",
      "Topic:  0.028*\"south\" + 0.026*\"north\" + 0.024*\"coast\" + 0.017*\"west\" + 0.014*\"train\" + 0.014*\"gold\" + 0.014*\"victoria\" + 0.013*\"flood\" + 0.013*\"polit\" + 0.011*\"darwin\"\n"
     ]
    }
   ],
   "source": [
    "print(\"\\nTopic: \",lda_model.print_topic(Bow_index, 10))"
   ]
  },
  {
   "cell_type": "code",
   "execution_count": 56,
   "metadata": {},
   "outputs": [],
   "source": [
    "tfidf_index,tfidf_topic_score=sorted(lda_model_tfidf[bow_corpus[4310]], key=lambda tup: -1*tup[1])[0]"
   ]
  },
  {
   "cell_type": "code",
   "execution_count": 64,
   "metadata": {},
   "outputs": [
    {
     "name": "stdout",
     "output_type": "stream",
     "text": [
      "\n",
      "Topic: {} 0.010*\"turnbul\" + 0.010*\"weather\" + 0.008*\"australia\" + 0.008*\"storm\" + 0.007*\"ash\" + 0.007*\"leagu\" + 0.007*\"michael\" + 0.006*\"tasmania\" + 0.006*\"rugbi\" + 0.006*\"celebr\"\n"
     ]
    }
   ],
   "source": [
    "print(\"\\nTopic: {}\",lda_model_tfidf.print_topic(tfidf_index, 10))"
   ]
  }
 ],
 "metadata": {
  "kernelspec": {
   "display_name": "Python 3",
   "language": "python",
   "name": "python3"
  },
  "language_info": {
   "codemirror_mode": {
    "name": "ipython",
    "version": 3
   },
   "file_extension": ".py",
   "mimetype": "text/x-python",
   "name": "python",
   "nbconvert_exporter": "python",
   "pygments_lexer": "ipython3",
   "version": "3.6.5"
  }
 },
 "nbformat": 4,
 "nbformat_minor": 4
}
